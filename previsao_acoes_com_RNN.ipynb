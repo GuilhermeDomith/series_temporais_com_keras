{
 "cells": [
  {
   "cell_type": "code",
   "execution_count": 1,
   "metadata": {},
   "outputs": [
    {
     "name": "stderr",
     "output_type": "stream",
     "text": [
      "Using TensorFlow backend.\n"
     ]
    }
   ],
   "source": [
    "import keras\n",
    "from keras.models import Sequential\n",
    "from keras.layers import Dense, Dropout, LSTM\n",
    "from keras.callbacks import EarlyStopping\n",
    "\n",
    "from sklearn import metrics\n",
    "from sklearn.preprocessing import MinMaxScaler\n",
    "\n",
    "import pandas as pd\n",
    "import numpy as np\n",
    "import matplotlib.pyplot as plt\n",
    "%matplotlib inline"
   ]
  },
  {
   "cell_type": "code",
   "execution_count": 2,
   "metadata": {},
   "outputs": [
    {
     "data": {
      "text/plain": [
       "(1335, 7)"
      ]
     },
     "execution_count": 2,
     "metadata": {},
     "output_type": "execute_result"
    }
   ],
   "source": [
    "df = pd.read_csv('data/DISB34.SA.csv')\n",
    "df = df.dropna()\n",
    "df.shape"
   ]
  },
  {
   "cell_type": "code",
   "execution_count": 3,
   "metadata": {},
   "outputs": [
    {
     "data": {
      "text/html": [
       "<div>\n",
       "<style scoped>\n",
       "    .dataframe tbody tr th:only-of-type {\n",
       "        vertical-align: middle;\n",
       "    }\n",
       "\n",
       "    .dataframe tbody tr th {\n",
       "        vertical-align: top;\n",
       "    }\n",
       "\n",
       "    .dataframe thead th {\n",
       "        text-align: right;\n",
       "    }\n",
       "</style>\n",
       "<table border=\"1\" class=\"dataframe\">\n",
       "  <thead>\n",
       "    <tr style=\"text-align: right;\">\n",
       "      <th></th>\n",
       "      <th>Date</th>\n",
       "      <th>Open</th>\n",
       "      <th>High</th>\n",
       "      <th>Low</th>\n",
       "      <th>Close</th>\n",
       "      <th>Adj Close</th>\n",
       "      <th>Volume</th>\n",
       "    </tr>\n",
       "  </thead>\n",
       "  <tbody>\n",
       "    <tr>\n",
       "      <th>0</th>\n",
       "      <td>2014-01-02</td>\n",
       "      <td>175.470001</td>\n",
       "      <td>175.470001</td>\n",
       "      <td>175.470001</td>\n",
       "      <td>175.470001</td>\n",
       "      <td>175.470001</td>\n",
       "      <td>0</td>\n",
       "    </tr>\n",
       "    <tr>\n",
       "      <th>1</th>\n",
       "      <td>2014-01-03</td>\n",
       "      <td>175.470001</td>\n",
       "      <td>175.470001</td>\n",
       "      <td>175.470001</td>\n",
       "      <td>175.470001</td>\n",
       "      <td>175.470001</td>\n",
       "      <td>0</td>\n",
       "    </tr>\n",
       "    <tr>\n",
       "      <th>2</th>\n",
       "      <td>2014-01-06</td>\n",
       "      <td>175.470001</td>\n",
       "      <td>175.470001</td>\n",
       "      <td>175.470001</td>\n",
       "      <td>175.470001</td>\n",
       "      <td>175.470001</td>\n",
       "      <td>0</td>\n",
       "    </tr>\n",
       "    <tr>\n",
       "      <th>3</th>\n",
       "      <td>2014-01-07</td>\n",
       "      <td>180.100006</td>\n",
       "      <td>180.100006</td>\n",
       "      <td>180.100006</td>\n",
       "      <td>182.070007</td>\n",
       "      <td>182.070007</td>\n",
       "      <td>200</td>\n",
       "    </tr>\n",
       "    <tr>\n",
       "      <th>4</th>\n",
       "      <td>2014-01-08</td>\n",
       "      <td>180.410004</td>\n",
       "      <td>180.410004</td>\n",
       "      <td>180.410004</td>\n",
       "      <td>179.710007</td>\n",
       "      <td>179.710007</td>\n",
       "      <td>6400</td>\n",
       "    </tr>\n",
       "  </tbody>\n",
       "</table>\n",
       "</div>"
      ],
      "text/plain": [
       "         Date        Open        High         Low       Close   Adj Close  \\\n",
       "0  2014-01-02  175.470001  175.470001  175.470001  175.470001  175.470001   \n",
       "1  2014-01-03  175.470001  175.470001  175.470001  175.470001  175.470001   \n",
       "2  2014-01-06  175.470001  175.470001  175.470001  175.470001  175.470001   \n",
       "3  2014-01-07  180.100006  180.100006  180.100006  182.070007  182.070007   \n",
       "4  2014-01-08  180.410004  180.410004  180.410004  179.710007  179.710007   \n",
       "\n",
       "   Volume  \n",
       "0       0  \n",
       "1       0  \n",
       "2       0  \n",
       "3     200  \n",
       "4    6400  "
      ]
     },
     "execution_count": 3,
     "metadata": {},
     "output_type": "execute_result"
    }
   ],
   "source": [
    "df.head()"
   ]
  },
  {
   "cell_type": "code",
   "execution_count": 4,
   "metadata": {
    "collapsed": true
   },
   "outputs": [],
   "source": [
    "df['Date'] = pd.to_datetime(df['Date'])\n",
    "\n",
    "train = df.iloc[:df.shape[0] - 90]\n",
    "test = df.iloc[df.shape[0] - 90:]"
   ]
  },
  {
   "cell_type": "code",
   "execution_count": 5,
   "metadata": {
    "collapsed": true
   },
   "outputs": [],
   "source": [
    "# Número de amostras utilizadas para previsão, consideradas como memória recente.\n",
    "timesteps = 10 \n",
    "# Colunas que serão utlizadas na previsão do target.\n",
    "features = ['Close']\n",
    "target = 'Close'"
   ]
  },
  {
   "cell_type": "markdown",
   "metadata": {},
   "source": [
    "### Normalização dos dados"
   ]
  },
  {
   "cell_type": "code",
   "execution_count": 6,
   "metadata": {
    "collapsed": true
   },
   "outputs": [],
   "source": [
    "# Normalizador para transformar os dados do DataFrame antes da previsão.\n",
    "\n",
    "scaler_features = MinMaxScaler(feature_range=(0,1))\n",
    "train_norm = pd.DataFrame(\n",
    "    data= scaler_features.fit_transform(train[features]),\n",
    "    columns= features\n",
    ")\n",
    "\n",
    "test_norm = pd.DataFrame(\n",
    "    data= scaler_features.transform(test[features]),\n",
    "    columns= features\n",
    ")\n",
    "\n",
    "# Este normalizador poderia ser utilizado para inverter a transformação \n",
    "# do target, mas como a previsão é apenas de uma coluna, um normalizador \n",
    "# do target será criado."
   ]
  },
  {
   "cell_type": "code",
   "execution_count": 7,
   "metadata": {},
   "outputs": [
    {
     "data": {
      "text/plain": [
       "MinMaxScaler(copy=True, feature_range=(0, 1))"
      ]
     },
     "execution_count": 7,
     "metadata": {},
     "output_type": "execute_result"
    }
   ],
   "source": [
    "# Normalizador que será utilizado para inverter a transformação \n",
    "# do target depois da previsão.\n",
    "\n",
    "scaler_target = MinMaxScaler(feature_range=(0,1))\n",
    "scaler_target.fit(train.iloc[:, 4:5])"
   ]
  },
  {
   "cell_type": "markdown",
   "metadata": {},
   "source": [
    "### Transformação dos dados para RNN"
   ]
  },
  {
   "cell_type": "code",
   "execution_count": 8,
   "metadata": {
    "collapsed": true
   },
   "outputs": [],
   "source": [
    "def transformar_dados_para_RNN(df, timesteps, colunas, target, append_before=None):\n",
    "    '''\n",
    "        df : DataFrame que será tansformado.\n",
    "        timesteps : Número de amostras que serão utilizadas. Amostras anteriores à cada previsão.\n",
    "        colunas : Nomes das colunas do DataFrame que serão utilizadas.\n",
    "        target : Nome do coluna que será prevista.\n",
    "        append_before : DataFrame que será utilizado para extrair N amostras anteriores ao 'df'.\n",
    "    '''\n",
    "    \n",
    "    if append_before is not None:\n",
    "        df_append = append_before\n",
    "        n_amos = df_append.shape[0] - timesteps\n",
    "        df = pd.concat((df_append.iloc[n_amos:], df), axis=0)\n",
    "    \n",
    "    previsores = []\n",
    "    valores_target = []\n",
    "\n",
    "    for i in range (timesteps, df.shape[0]):\n",
    "        previsores.append(np.matrix(df.iloc[i-timesteps:i][colunas]))\n",
    "        valores_target.append(df[target].iloc[i])\n",
    "        \n",
    "    return np.array(previsores), np.array(valores_target)"
   ]
  },
  {
   "cell_type": "code",
   "execution_count": 9,
   "metadata": {
    "collapsed": true
   },
   "outputs": [],
   "source": [
    "x_train, y_train = transformar_dados_para_RNN(train_norm, timesteps, features, target)\n",
    "x_test, y_test = transformar_dados_para_RNN(test_norm, timesteps, features, target, append_before=train_norm)"
   ]
  },
  {
   "cell_type": "markdown",
   "metadata": {},
   "source": [
    "### Criação do modelo de RNN"
   ]
  },
  {
   "cell_type": "code",
   "execution_count": 10,
   "metadata": {},
   "outputs": [
    {
     "name": "stdout",
     "output_type": "stream",
     "text": [
      "WARNING:tensorflow:From /home/guilherme/.local/lib/python3.6/site-packages/tensorflow/python/framework/op_def_library.py:263: colocate_with (from tensorflow.python.framework.ops) is deprecated and will be removed in a future version.\n",
      "Instructions for updating:\n",
      "Colocations handled automatically by placer.\n",
      "WARNING:tensorflow:From /home/guilherme/.local/lib/python3.6/site-packages/keras/backend/tensorflow_backend.py:3445: calling dropout (from tensorflow.python.ops.nn_ops) with keep_prob is deprecated and will be removed in a future version.\n",
      "Instructions for updating:\n",
      "Please use `rate` instead of `keep_prob`. Rate should be set to `rate = 1 - keep_prob`.\n"
     ]
    }
   ],
   "source": [
    "model = Sequential()\n",
    "\n",
    "model.add(LSTM(15, activation='linear', return_sequences=True, input_shape=(timesteps, len(features)) ))\n",
    "model.add(Dropout(0.3))\n",
    "model.add(LSTM(30, activation='linear', return_sequences=True))\n",
    "model.add(Dropout(0.3))\n",
    "model.add(LSTM(20, activation='linear', return_sequences=False))\n",
    "model.add(Dense(1, activation='sigmoid'))"
   ]
  },
  {
   "cell_type": "code",
   "execution_count": 11,
   "metadata": {
    "collapsed": true
   },
   "outputs": [],
   "source": [
    "model.compile(\n",
    "    optimizer='rmsprop',\n",
    "    loss='msle',\n",
    "    metrics=['mae']\n",
    ")"
   ]
  },
  {
   "cell_type": "code",
   "execution_count": 12,
   "metadata": {},
   "outputs": [
    {
     "name": "stdout",
     "output_type": "stream",
     "text": [
      "WARNING:tensorflow:From /home/guilherme/.local/lib/python3.6/site-packages/tensorflow/python/ops/math_ops.py:3066: to_int32 (from tensorflow.python.ops.math_ops) is deprecated and will be removed in a future version.\n",
      "Instructions for updating:\n",
      "Use tf.cast instead.\n",
      "Epoch 1/150\n",
      "1235/1235 [==============================] - 3s 3ms/step - loss: 0.0127 - mean_absolute_error: 0.1044\n",
      "Epoch 2/150\n",
      "1235/1235 [==============================] - 1s 919us/step - loss: 0.0013 - mean_absolute_error: 0.0432\n",
      "Epoch 3/150\n",
      "1235/1235 [==============================] - 1s 932us/step - loss: 0.0012 - mean_absolute_error: 0.0423\n",
      "Epoch 4/150\n",
      "1235/1235 [==============================] - 1s 954us/step - loss: 0.0011 - mean_absolute_error: 0.0396\n",
      "Epoch 5/150\n",
      "1235/1235 [==============================] - 1s 947us/step - loss: 9.7187e-04 - mean_absolute_error: 0.0380\n",
      "Epoch 6/150\n",
      "1235/1235 [==============================] - 1s 948us/step - loss: 9.3675e-04 - mean_absolute_error: 0.0367\n",
      "Epoch 7/150\n",
      "1235/1235 [==============================] - 1s 971us/step - loss: 8.8966e-04 - mean_absolute_error: 0.0363\n",
      "Epoch 8/150\n",
      "1235/1235 [==============================] - 1s 949us/step - loss: 8.1331e-04 - mean_absolute_error: 0.0348\n",
      "Epoch 9/150\n",
      "1235/1235 [==============================] - 1s 945us/step - loss: 8.4274e-04 - mean_absolute_error: 0.0349\n",
      "Epoch 10/150\n",
      "1235/1235 [==============================] - 1s 960us/step - loss: 8.2360e-04 - mean_absolute_error: 0.0348\n",
      "Epoch 11/150\n",
      "1235/1235 [==============================] - 1s 969us/step - loss: 8.4891e-04 - mean_absolute_error: 0.0351\n",
      "Epoch 12/150\n",
      "1235/1235 [==============================] - 1s 1ms/step - loss: 8.1423e-04 - mean_absolute_error: 0.0346\n",
      "Epoch 13/150\n",
      "1235/1235 [==============================] - 1s 1ms/step - loss: 8.1311e-04 - mean_absolute_error: 0.0345\n",
      "Epoch 14/150\n",
      "1235/1235 [==============================] - 1s 960us/step - loss: 8.2260e-04 - mean_absolute_error: 0.0346\n",
      "Epoch 15/150\n",
      "1235/1235 [==============================] - 1s 975us/step - loss: 7.3457e-04 - mean_absolute_error: 0.0320\n",
      "Epoch 16/150\n",
      "1235/1235 [==============================] - 1s 975us/step - loss: 8.0169e-04 - mean_absolute_error: 0.0343\n",
      "Epoch 17/150\n",
      "1235/1235 [==============================] - 1s 1ms/step - loss: 7.7137e-04 - mean_absolute_error: 0.0331A: 0s - loss: 7.8545e-04 - mean_absolute_error: 0 - ETA: 0s - loss: 7.5060e-04 - mean_absolute_error: 0\n",
      "Epoch 18/150\n",
      "1235/1235 [==============================] - 1s 954us/step - loss: 7.3313e-04 - mean_absolute_error: 0.0322\n",
      "Epoch 19/150\n",
      "1235/1235 [==============================] - 1s 951us/step - loss: 7.2200e-04 - mean_absolute_error: 0.0323\n",
      "Epoch 20/150\n",
      "1235/1235 [==============================] - 1s 959us/step - loss: 7.6426e-04 - mean_absolute_error: 0.0334\n",
      "Epoch 21/150\n",
      "1235/1235 [==============================] - 1s 955us/step - loss: 7.4028e-04 - mean_absolute_error: 0.0326\n",
      "Epoch 22/150\n",
      "1235/1235 [==============================] - 1s 974us/step - loss: 7.3519e-04 - mean_absolute_error: 0.0327\n",
      "Epoch 23/150\n",
      "1235/1235 [==============================] - 1s 1ms/step - loss: 7.3307e-04 - mean_absolute_error: 0.0325\n",
      "Epoch 24/150\n",
      "1235/1235 [==============================] - 1s 965us/step - loss: 6.9909e-04 - mean_absolute_error: 0.0320\n",
      "Epoch 25/150\n",
      "1235/1235 [==============================] - 1s 989us/step - loss: 7.2876e-04 - mean_absolute_error: 0.0323\n",
      "Epoch 26/150\n",
      "1235/1235 [==============================] - 1s 968us/step - loss: 6.9436e-04 - mean_absolute_error: 0.0315\n",
      "Epoch 27/150\n",
      "1235/1235 [==============================] - 1s 976us/step - loss: 6.6197e-04 - mean_absolute_error: 0.0309\n",
      "Epoch 28/150\n",
      "1235/1235 [==============================] - 1s 994us/step - loss: 6.9278e-04 - mean_absolute_error: 0.0314\n",
      "Epoch 29/150\n",
      "1235/1235 [==============================] - 1s 986us/step - loss: 7.1649e-04 - mean_absolute_error: 0.0325\n",
      "Epoch 30/150\n",
      "1235/1235 [==============================] - 1s 1ms/step - loss: 6.7191e-04 - mean_absolute_error: 0.0309\n",
      "Epoch 31/150\n",
      "1235/1235 [==============================] - 1s 996us/step - loss: 7.0927e-04 - mean_absolute_error: 0.0314\n",
      "Epoch 32/150\n",
      "1235/1235 [==============================] - 1s 990us/step - loss: 6.5461e-04 - mean_absolute_error: 0.0308\n",
      "Epoch 33/150\n",
      "1235/1235 [==============================] - 1s 993us/step - loss: 6.6284e-04 - mean_absolute_error: 0.0305\n",
      "Epoch 34/150\n",
      "1235/1235 [==============================] - 1s 987us/step - loss: 6.7224e-04 - mean_absolute_error: 0.0307\n",
      "Epoch 35/150\n",
      "1235/1235 [==============================] - 1s 1ms/step - loss: 6.4874e-04 - mean_absolute_error: 0.0310\n",
      "Epoch 36/150\n",
      "1235/1235 [==============================] - 1s 990us/step - loss: 6.3452e-04 - mean_absolute_error: 0.0302\n",
      "Epoch 37/150\n",
      "1235/1235 [==============================] - 1s 998us/step - loss: 6.5137e-04 - mean_absolute_error: 0.0303\n",
      "Epoch 38/150\n",
      "1235/1235 [==============================] - 1s 991us/step - loss: 6.1810e-04 - mean_absolute_error: 0.0297\n",
      "Epoch 39/150\n",
      "1235/1235 [==============================] - 1s 995us/step - loss: 6.3145e-04 - mean_absolute_error: 0.0302\n",
      "Epoch 40/150\n",
      "1235/1235 [==============================] - 1s 993us/step - loss: 6.0307e-04 - mean_absolute_error: 0.0291\n",
      "Epoch 41/150\n",
      "1235/1235 [==============================] - 1s 1ms/step - loss: 6.3465e-04 - mean_absolute_error: 0.0299\n",
      "Epoch 42/150\n",
      "1235/1235 [==============================] - 1s 1ms/step - loss: 6.1684e-04 - mean_absolute_error: 0.0295\n",
      "Epoch 43/150\n",
      "1235/1235 [==============================] - 1s 1ms/step - loss: 6.3001e-04 - mean_absolute_error: 0.0299\n",
      "Epoch 44/150\n",
      "1235/1235 [==============================] - 1s 1ms/step - loss: 5.9998e-04 - mean_absolute_error: 0.0292\n",
      "Epoch 45/150\n",
      "1235/1235 [==============================] - 1s 999us/step - loss: 6.3641e-04 - mean_absolute_error: 0.0300\n",
      "Epoch 46/150\n",
      "1235/1235 [==============================] - 1s 1ms/step - loss: 6.0058e-04 - mean_absolute_error: 0.0291\n",
      "Epoch 47/150\n",
      "1235/1235 [==============================] - 1s 1ms/step - loss: 6.3348e-04 - mean_absolute_error: 0.0299\n",
      "Epoch 48/150\n",
      "1235/1235 [==============================] - 1s 1ms/step - loss: 6.2002e-04 - mean_absolute_error: 0.0298\n",
      "Epoch 49/150\n",
      "1235/1235 [==============================] - 1s 1ms/step - loss: 5.8252e-04 - mean_absolute_error: 0.0288\n",
      "Epoch 50/150\n",
      "1235/1235 [==============================] - 1s 1ms/step - loss: 5.7848e-04 - mean_absolute_error: 0.0290\n",
      "Epoch 51/150\n",
      "1235/1235 [==============================] - 1s 967us/step - loss: 5.9510e-04 - mean_absolute_error: 0.0293\n",
      "Epoch 52/150\n",
      "1235/1235 [==============================] - 1s 967us/step - loss: 5.3792e-04 - mean_absolute_error: 0.0277\n",
      "Epoch 53/150\n",
      "1235/1235 [==============================] - 1s 1ms/step - loss: 5.1727e-04 - mean_absolute_error: 0.0275\n",
      "Epoch 54/150\n",
      "1235/1235 [==============================] - 2s 1ms/step - loss: 5.5258e-04 - mean_absolute_error: 0.0277\n",
      "Epoch 55/150\n",
      "1235/1235 [==============================] - 1s 1ms/step - loss: 5.6454e-04 - mean_absolute_error: 0.0282\n",
      "Epoch 56/150\n",
      "1235/1235 [==============================] - 1s 1ms/step - loss: 5.4984e-04 - mean_absolute_error: 0.0281\n",
      "Epoch 57/150\n",
      "1235/1235 [==============================] - 1s 1ms/step - loss: 5.4662e-04 - mean_absolute_error: 0.0280\n",
      "Epoch 58/150\n",
      "1235/1235 [==============================] - 1s 1ms/step - loss: 5.2001e-04 - mean_absolute_error: 0.0273\n",
      "Epoch 59/150\n",
      "1235/1235 [==============================] - 1s 1ms/step - loss: 5.3046e-04 - mean_absolute_error: 0.0272\n",
      "Epoch 60/150\n",
      "1235/1235 [==============================] - 1s 1ms/step - loss: 5.4231e-04 - mean_absolute_error: 0.0277\n",
      "Epoch 61/150\n",
      "1235/1235 [==============================] - 1s 1ms/step - loss: 5.5007e-04 - mean_absolute_error: 0.0279\n",
      "Epoch 62/150\n",
      "1235/1235 [==============================] - 1s 1ms/step - loss: 5.0419e-04 - mean_absolute_error: 0.0263\n",
      "Epoch 63/150\n",
      "1235/1235 [==============================] - 1s 1ms/step - loss: 5.2178e-04 - mean_absolute_error: 0.0274\n",
      "Epoch 64/150\n",
      "1235/1235 [==============================] - 1s 1ms/step - loss: 4.9079e-04 - mean_absolute_error: 0.0267\n",
      "Epoch 65/150\n",
      "1235/1235 [==============================] - 1s 1ms/step - loss: 4.9284e-04 - mean_absolute_error: 0.0264\n",
      "Epoch 66/150\n",
      "1235/1235 [==============================] - 1s 1ms/step - loss: 4.9316e-04 - mean_absolute_error: 0.0264\n",
      "Epoch 67/150\n",
      "1235/1235 [==============================] - 1s 914us/step - loss: 4.8170e-04 - mean_absolute_error: 0.0259\n",
      "Epoch 68/150\n",
      "1235/1235 [==============================] - 1s 941us/step - loss: 5.0620e-04 - mean_absolute_error: 0.0265\n",
      "Epoch 69/150\n",
      "1235/1235 [==============================] - 1s 907us/step - loss: 4.6999e-04 - mean_absolute_error: 0.0256\n",
      "Epoch 70/150\n",
      "1235/1235 [==============================] - 1s 993us/step - loss: 4.7722e-04 - mean_absolute_error: 0.0260\n",
      "Epoch 71/150\n",
      "1235/1235 [==============================] - 1s 1ms/step - loss: 4.6016e-04 - mean_absolute_error: 0.0253\n",
      "Epoch 72/150\n",
      "1235/1235 [==============================] - 1s 1ms/step - loss: 4.5119e-04 - mean_absolute_error: 0.0248\n",
      "Epoch 73/150\n",
      "1235/1235 [==============================] - 1s 918us/step - loss: 4.8098e-04 - mean_absolute_error: 0.0253\n",
      "Epoch 74/150\n",
      "1235/1235 [==============================] - 1s 911us/step - loss: 4.4152e-04 - mean_absolute_error: 0.0247\n",
      "Epoch 75/150\n",
      "1235/1235 [==============================] - 1s 913us/step - loss: 4.5486e-04 - mean_absolute_error: 0.0252\n",
      "Epoch 76/150\n",
      "1235/1235 [==============================] - 1s 915us/step - loss: 4.4294e-04 - mean_absolute_error: 0.0248\n",
      "Epoch 77/150\n",
      "1235/1235 [==============================] - 1s 921us/step - loss: 4.5623e-04 - mean_absolute_error: 0.0248\n",
      "Epoch 78/150\n",
      "1235/1235 [==============================] - 1s 933us/step - loss: 4.6087e-04 - mean_absolute_error: 0.0250\n",
      "Epoch 79/150\n",
      "1235/1235 [==============================] - 1s 925us/step - loss: 4.0468e-04 - mean_absolute_error: 0.0238\n",
      "Epoch 80/150\n",
      "1235/1235 [==============================] - 1s 920us/step - loss: 4.5177e-04 - mean_absolute_error: 0.0251\n",
      "Epoch 81/150\n",
      "1235/1235 [==============================] - 1s 930us/step - loss: 4.4859e-04 - mean_absolute_error: 0.0248\n",
      "Epoch 82/150\n",
      "1235/1235 [==============================] - 1s 928us/step - loss: 4.5610e-04 - mean_absolute_error: 0.0252\n",
      "Epoch 83/150\n",
      "1235/1235 [==============================] - 1s 932us/step - loss: 4.1816e-04 - mean_absolute_error: 0.0244\n",
      "Epoch 84/150\n",
      "1235/1235 [==============================] - 1s 935us/step - loss: 4.4363e-04 - mean_absolute_error: 0.0244\n",
      "Epoch 85/150\n",
      "1235/1235 [==============================] - 1s 939us/step - loss: 4.2611e-04 - mean_absolute_error: 0.0240\n",
      "Epoch 86/150\n",
      "1235/1235 [==============================] - 1s 940us/step - loss: 4.3469e-04 - mean_absolute_error: 0.0247\n",
      "Epoch 87/150\n",
      "1235/1235 [==============================] - 1s 926us/step - loss: 4.0883e-04 - mean_absolute_error: 0.0239\n",
      "Epoch 88/150\n",
      "1235/1235 [==============================] - 1s 932us/step - loss: 4.2978e-04 - mean_absolute_error: 0.0243\n",
      "Epoch 89/150\n",
      "1235/1235 [==============================] - 1s 940us/step - loss: 4.0800e-04 - mean_absolute_error: 0.0240\n",
      "Epoch 90/150\n",
      "1235/1235 [==============================] - 1s 926us/step - loss: 3.9144e-04 - mean_absolute_error: 0.0235\n",
      "Epoch 91/150\n",
      "1235/1235 [==============================] - 1s 938us/step - loss: 4.1496e-04 - mean_absolute_error: 0.0238\n",
      "Epoch 92/150\n",
      "1235/1235 [==============================] - 1s 937us/step - loss: 4.0469e-04 - mean_absolute_error: 0.0230\n",
      "Epoch 93/150\n",
      "1235/1235 [==============================] - 1s 939us/step - loss: 3.8833e-04 - mean_absolute_error: 0.0229\n",
      "Epoch 94/150\n",
      "1235/1235 [==============================] - 1s 956us/step - loss: 4.0162e-04 - mean_absolute_error: 0.0234\n",
      "Epoch 95/150\n",
      "1235/1235 [==============================] - 1s 942us/step - loss: 3.9388e-04 - mean_absolute_error: 0.0229\n",
      "Epoch 96/150\n",
      "1235/1235 [==============================] - 1s 970us/step - loss: 3.7169e-04 - mean_absolute_error: 0.0223\n",
      "Epoch 97/150\n",
      "1235/1235 [==============================] - 1s 940us/step - loss: 3.7250e-04 - mean_absolute_error: 0.0223\n",
      "Epoch 98/150\n",
      "1235/1235 [==============================] - 1s 955us/step - loss: 3.8727e-04 - mean_absolute_error: 0.0231\n",
      "Epoch 99/150\n",
      "1235/1235 [==============================] - 1s 947us/step - loss: 3.9074e-04 - mean_absolute_error: 0.0231\n",
      "Epoch 100/150\n",
      "1235/1235 [==============================] - 1s 955us/step - loss: 3.7427e-04 - mean_absolute_error: 0.0222\n",
      "Epoch 101/150\n",
      "1235/1235 [==============================] - 1s 965us/step - loss: 3.6280e-04 - mean_absolute_error: 0.0222\n",
      "Epoch 102/150\n",
      "1235/1235 [==============================] - 1s 956us/step - loss: 3.6601e-04 - mean_absolute_error: 0.0223\n",
      "Epoch 103/150\n",
      "1235/1235 [==============================] - 1s 948us/step - loss: 3.7977e-04 - mean_absolute_error: 0.0224\n",
      "Epoch 104/150\n",
      "1235/1235 [==============================] - 1s 969us/step - loss: 3.7512e-04 - mean_absolute_error: 0.0223\n",
      "Epoch 105/150\n",
      "1235/1235 [==============================] - 1s 957us/step - loss: 3.6143e-04 - mean_absolute_error: 0.0220\n",
      "Epoch 106/150\n",
      "1235/1235 [==============================] - 1s 1ms/step - loss: 3.8569e-04 - mean_absolute_error: 0.0230\n",
      "Epoch 107/150\n",
      "1235/1235 [==============================] - 1s 948us/step - loss: 3.3002e-04 - mean_absolute_error: 0.0212\n",
      "Epoch 108/150\n",
      "1235/1235 [==============================] - 1s 956us/step - loss: 3.6262e-04 - mean_absolute_error: 0.0220\n",
      "Epoch 109/150\n",
      "1235/1235 [==============================] - 1s 973us/step - loss: 3.4697e-04 - mean_absolute_error: 0.0216\n",
      "Epoch 110/150\n",
      "1235/1235 [==============================] - 1s 953us/step - loss: 3.5774e-04 - mean_absolute_error: 0.0218\n",
      "Epoch 111/150\n",
      "1235/1235 [==============================] - 1s 969us/step - loss: 3.7144e-04 - mean_absolute_error: 0.0224\n",
      "Epoch 112/150\n",
      "1235/1235 [==============================] - 1s 946us/step - loss: 3.3750e-04 - mean_absolute_error: 0.0213\n",
      "Epoch 113/150\n",
      "1235/1235 [==============================] - 1s 974us/step - loss: 3.3961e-04 - mean_absolute_error: 0.0216\n",
      "Epoch 114/150\n",
      "1235/1235 [==============================] - 1s 987us/step - loss: 3.4734e-04 - mean_absolute_error: 0.0216\n",
      "Epoch 115/150\n",
      "1235/1235 [==============================] - 1s 971us/step - loss: 3.4990e-04 - mean_absolute_error: 0.0215\n",
      "Epoch 116/150\n",
      "1235/1235 [==============================] - 1s 992us/step - loss: 3.5125e-04 - mean_absolute_error: 0.0216\n",
      "Epoch 117/150\n",
      "1235/1235 [==============================] - 1s 965us/step - loss: 3.4982e-04 - mean_absolute_error: 0.0217\n",
      "Epoch 118/150\n",
      "1235/1235 [==============================] - 1s 985us/step - loss: 3.3637e-04 - mean_absolute_error: 0.0208\n",
      "Epoch 119/150\n",
      "1235/1235 [==============================] - 1s 987us/step - loss: 3.3823e-04 - mean_absolute_error: 0.0209\n",
      "Epoch 120/150\n",
      "1235/1235 [==============================] - 1s 969us/step - loss: 3.2213e-04 - mean_absolute_error: 0.0208\n",
      "Epoch 121/150\n",
      "1235/1235 [==============================] - 1s 974us/step - loss: 3.3524e-04 - mean_absolute_error: 0.0206\n",
      "Epoch 122/150\n",
      "1235/1235 [==============================] - 1s 967us/step - loss: 3.3038e-04 - mean_absolute_error: 0.0208\n",
      "Epoch 123/150\n",
      "1235/1235 [==============================] - 1s 983us/step - loss: 3.1130e-04 - mean_absolute_error: 0.0201\n",
      "Epoch 124/150\n",
      "1235/1235 [==============================] - 1s 976us/step - loss: 3.2061e-04 - mean_absolute_error: 0.0206\n",
      "Epoch 125/150\n",
      "1235/1235 [==============================] - 1s 975us/step - loss: 3.3696e-04 - mean_absolute_error: 0.0206\n",
      "Epoch 126/150\n",
      "1235/1235 [==============================] - 1s 980us/step - loss: 3.2464e-04 - mean_absolute_error: 0.0206\n",
      "Epoch 127/150\n",
      "1235/1235 [==============================] - 1s 988us/step - loss: 3.2837e-04 - mean_absolute_error: 0.0208\n",
      "Epoch 128/150\n",
      "1235/1235 [==============================] - 1s 984us/step - loss: 3.5139e-04 - mean_absolute_error: 0.0217\n",
      "Epoch 129/150\n",
      "1235/1235 [==============================] - 1s 984us/step - loss: 3.3240e-04 - mean_absolute_error: 0.0209\n",
      "Epoch 130/150\n",
      "1235/1235 [==============================] - 1s 981us/step - loss: 3.3726e-04 - mean_absolute_error: 0.0208\n",
      "Epoch 131/150\n",
      "1235/1235 [==============================] - 1s 983us/step - loss: 3.1905e-04 - mean_absolute_error: 0.0206\n",
      "Epoch 132/150\n",
      "1235/1235 [==============================] - 1s 987us/step - loss: 3.1356e-04 - mean_absolute_error: 0.0204\n",
      "Epoch 133/150\n"
     ]
    },
    {
     "name": "stdout",
     "output_type": "stream",
     "text": [
      "1235/1235 [==============================] - 1s 915us/step - loss: 3.2414e-04 - mean_absolute_error: 0.0201\n",
      "Epoch 134/150\n",
      "1235/1235 [==============================] - 1s 901us/step - loss: 3.3371e-04 - mean_absolute_error: 0.0212\n",
      "Epoch 135/150\n",
      "1235/1235 [==============================] - 1s 892us/step - loss: 3.2028e-04 - mean_absolute_error: 0.0204\n",
      "Epoch 136/150\n",
      "1235/1235 [==============================] - 1s 916us/step - loss: 2.9688e-04 - mean_absolute_error: 0.0197\n",
      "Epoch 137/150\n",
      "1235/1235 [==============================] - 1s 903us/step - loss: 2.9726e-04 - mean_absolute_error: 0.0200\n",
      "Epoch 138/150\n",
      "1235/1235 [==============================] - 1s 912us/step - loss: 3.0894e-04 - mean_absolute_error: 0.0201\n",
      "Epoch 139/150\n",
      "1235/1235 [==============================] - 1s 925us/step - loss: 3.0552e-04 - mean_absolute_error: 0.0201\n",
      "Epoch 140/150\n",
      "1235/1235 [==============================] - 1s 912us/step - loss: 3.0601e-04 - mean_absolute_error: 0.0196\n",
      "Epoch 141/150\n",
      "1235/1235 [==============================] - 1s 913us/step - loss: 2.9448e-04 - mean_absolute_error: 0.0195\n",
      "Epoch 142/150\n",
      "1235/1235 [==============================] - 1s 912us/step - loss: 3.0474e-04 - mean_absolute_error: 0.0201\n",
      "Epoch 143/150\n",
      "1235/1235 [==============================] - 1s 917us/step - loss: 2.9923e-04 - mean_absolute_error: 0.0197\n",
      "Epoch 144/150\n",
      "1235/1235 [==============================] - 1s 917us/step - loss: 3.2578e-04 - mean_absolute_error: 0.0200\n",
      "Epoch 145/150\n",
      "1235/1235 [==============================] - 1s 923us/step - loss: 2.9169e-04 - mean_absolute_error: 0.0197\n",
      "Epoch 146/150\n",
      "1235/1235 [==============================] - 1s 919us/step - loss: 2.9278e-04 - mean_absolute_error: 0.0194\n",
      "Epoch 147/150\n",
      "1235/1235 [==============================] - 1s 915us/step - loss: 3.1479e-04 - mean_absolute_error: 0.0202\n",
      "Epoch 148/150\n",
      "1235/1235 [==============================] - 1s 916us/step - loss: 3.0465e-04 - mean_absolute_error: 0.0201\n",
      "Epoch 149/150\n",
      "1235/1235 [==============================] - 1s 917us/step - loss: 2.8248e-04 - mean_absolute_error: 0.0200\n",
      "Epoch 150/150\n",
      "1235/1235 [==============================] - 1s 917us/step - loss: 3.1968e-04 - mean_absolute_error: 0.0205\n"
     ]
    },
    {
     "data": {
      "text/plain": [
       "<keras.callbacks.History at 0x7fd1e78b7978>"
      ]
     },
     "execution_count": 12,
     "metadata": {},
     "output_type": "execute_result"
    }
   ],
   "source": [
    "model.fit(x_train, y_train, batch_size=20, epochs=150)"
   ]
  },
  {
   "cell_type": "code",
   "execution_count": 13,
   "metadata": {
    "collapsed": true
   },
   "outputs": [],
   "source": [
    "pred = model.predict(x_test)"
   ]
  },
  {
   "cell_type": "code",
   "execution_count": 14,
   "metadata": {
    "collapsed": true
   },
   "outputs": [],
   "source": [
    "pred = scaler_target.inverse_transform(pred)"
   ]
  },
  {
   "cell_type": "code",
   "execution_count": 15,
   "metadata": {},
   "outputs": [
    {
     "data": {
      "text/plain": [
       "19.514720337760416"
      ]
     },
     "execution_count": 15,
     "metadata": {},
     "output_type": "execute_result"
    }
   ],
   "source": [
    "metrics.mean_absolute_error(test[target], pred)"
   ]
  },
  {
   "cell_type": "code",
   "execution_count": null,
   "metadata": {
    "collapsed": true
   },
   "outputs": [],
   "source": []
  },
  {
   "cell_type": "code",
   "execution_count": 17,
   "metadata": {},
   "outputs": [
    {
     "data": {
      "image/png": "[encoded data removed]",
      "text/plain": [
       "<Figure size 2160x1440 with 1 Axes>"
      ]
     },
     "metadata": {},
     "output_type": "display_data"
    }
   ],
   "source": [
    "plt.figure(figsize=(30, 20))\n",
    "plt.plot(test.Date, test.Close, color='blue', label='Preço real', linestyle='-', marker='o')\n",
    "plt.plot(test.Date, pred, color='red', label='Preço previsto', linestyle='--', marker='o')\n",
    "plt.grid(True)"
   ]
  },
  {
   "cell_type": "code",
   "execution_count": 174,
   "metadata": {},
   "outputs": [
    {
     "data": {
      "text/plain": [
       "array([94755., 92875., 93083., 94333., 93285., 94578., 94588., 95923.,\n",
       "       95045., 96552., 96236., 96188., 96353., 95528., 96008., 95009.,\n",
       "       94389., 95597., 94808., 94258.])"
      ]
     },
     "execution_count": 174,
     "metadata": {},
     "output_type": "execute_result"
    }
   ],
   "source": [
    "y_test"
   ]
  },
  {
   "cell_type": "code",
   "execution_count": 178,
   "metadata": {},
   "outputs": [
    {
     "data": {
      "text/plain": [
       "479   2019-04-11\n",
       "480   2019-04-12\n",
       "481   2019-04-15\n",
       "482   2019-04-16\n",
       "483   2019-04-17\n",
       "484   2019-04-18\n",
       "485   2019-04-22\n",
       "486   2019-04-23\n",
       "487   2019-04-24\n",
       "488   2019-04-25\n",
       "489   2019-04-26\n",
       "490   2019-04-29\n",
       "491   2019-04-30\n",
       "492   2019-05-02\n",
       "493   2019-05-03\n",
       "494   2019-05-06\n",
       "495   2019-05-07\n",
       "496   2019-05-08\n",
       "497   2019-05-09\n",
       "498   2019-05-10\n",
       "Name: Date, dtype: datetime64[ns]"
      ]
     },
     "execution_count": 178,
     "metadata": {},
     "output_type": "execute_result"
    }
   ],
   "source": [
    "pd.to_datetime(test['Date'])"
   ]
  },
  {
   "cell_type": "code",
   "execution_count": null,
   "metadata": {
    "collapsed": true
   },
   "outputs": [],
   "source": []
  }
 ],
 "metadata": {
  "kernelspec": {
   "display_name": "Python 3",
   "language": "python",
   "name": "python3"
  },
  "language_info": {
   "codemirror_mode": {
    "name": "ipython",
    "version": 3
   },
   "file_extension": ".py",
   "mimetype": "text/x-python",
   "name": "python",
   "nbconvert_exporter": "python",
   "pygments_lexer": "ipython3",
   "version": "3.6.3"
  }
 },
 "nbformat": 4,
 "nbformat_minor": 2
}
