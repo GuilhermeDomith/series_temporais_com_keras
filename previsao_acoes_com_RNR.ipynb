{
 "cells": [
  {
   "cell_type": "markdown",
   "metadata": {},
   "source": [
    "## Previsão de Ações com Rendes Neurais Recorrentes\n",
    "\n",
    "Neste exemplo é utilizado uma rede neural *Rede Neural Recorrente* para previsão dos preços de ações. Ao invés da camada *Dense*, ou juntamente com ela, utilizaremos também a camada *LSTM*. Também precisaremos fazer uma trasnformação na estrutura dos dados antes de inserir na rede neural."
   ]
  },
  {
   "cell_type": "code",
   "execution_count": 155,
   "metadata": {
    "collapsed": true
   },
   "outputs": [],
   "source": [
    "import warnings\n",
    "warnings.filterwarnings('ignore')\n",
    "\n",
    "from tensorflow import keras\n",
    "from tensorflow.keras.callbacks import EarlyStopping\n",
    "from tensorflow.keras.models import Sequential\n",
    "from tensorflow.keras.layers import Dense, Dropout, LSTM\n",
    "import tensorflow \n",
    "\n",
    "from sklearn import metrics\n",
    "from sklearn.preprocessing import MinMaxScaler, StandardScaler\n",
    "\n",
    "import pandas as pd\n",
    "import numpy as np\n",
    "import matplotlib.pyplot as plt\n",
    "%matplotlib inline"
   ]
  },
  {
   "cell_type": "code",
   "execution_count": 156,
   "metadata": {},
   "outputs": [
    {
     "data": {
      "text/plain": [
       "(1335, 7)"
      ]
     },
     "execution_count": 156,
     "metadata": {},
     "output_type": "execute_result"
    }
   ],
   "source": [
    "df = pd.read_csv('data/acoes/DISB34.SA.csv', parse_dates=['Date'])\n",
    "df = df.dropna()\n",
    "df.shape"
   ]
  },
  {
   "cell_type": "code",
   "execution_count": 157,
   "metadata": {},
   "outputs": [
    {
     "data": {
      "text/html": [
       "<div>\n",
       "<style scoped>\n",
       "    .dataframe tbody tr th:only-of-type {\n",
       "        vertical-align: middle;\n",
       "    }\n",
       "\n",
       "    .dataframe tbody tr th {\n",
       "        vertical-align: top;\n",
       "    }\n",
       "\n",
       "    .dataframe thead th {\n",
       "        text-align: right;\n",
       "    }\n",
       "</style>\n",
       "<table border=\"1\" class=\"dataframe\">\n",
       "  <thead>\n",
       "    <tr style=\"text-align: right;\">\n",
       "      <th></th>\n",
       "      <th>Date</th>\n",
       "      <th>Open</th>\n",
       "      <th>High</th>\n",
       "      <th>Low</th>\n",
       "      <th>Close</th>\n",
       "      <th>Adj Close</th>\n",
       "      <th>Volume</th>\n",
       "    </tr>\n",
       "  </thead>\n",
       "  <tbody>\n",
       "    <tr>\n",
       "      <th>0</th>\n",
       "      <td>2014-01-02</td>\n",
       "      <td>175.470001</td>\n",
       "      <td>175.470001</td>\n",
       "      <td>175.470001</td>\n",
       "      <td>175.470001</td>\n",
       "      <td>175.470001</td>\n",
       "      <td>0</td>\n",
       "    </tr>\n",
       "    <tr>\n",
       "      <th>1</th>\n",
       "      <td>2014-01-03</td>\n",
       "      <td>175.470001</td>\n",
       "      <td>175.470001</td>\n",
       "      <td>175.470001</td>\n",
       "      <td>175.470001</td>\n",
       "      <td>175.470001</td>\n",
       "      <td>0</td>\n",
       "    </tr>\n",
       "    <tr>\n",
       "      <th>2</th>\n",
       "      <td>2014-01-06</td>\n",
       "      <td>175.470001</td>\n",
       "      <td>175.470001</td>\n",
       "      <td>175.470001</td>\n",
       "      <td>175.470001</td>\n",
       "      <td>175.470001</td>\n",
       "      <td>0</td>\n",
       "    </tr>\n",
       "    <tr>\n",
       "      <th>3</th>\n",
       "      <td>2014-01-07</td>\n",
       "      <td>180.100006</td>\n",
       "      <td>180.100006</td>\n",
       "      <td>180.100006</td>\n",
       "      <td>182.070007</td>\n",
       "      <td>182.070007</td>\n",
       "      <td>200</td>\n",
       "    </tr>\n",
       "    <tr>\n",
       "      <th>4</th>\n",
       "      <td>2014-01-08</td>\n",
       "      <td>180.410004</td>\n",
       "      <td>180.410004</td>\n",
       "      <td>180.410004</td>\n",
       "      <td>179.710007</td>\n",
       "      <td>179.710007</td>\n",
       "      <td>6400</td>\n",
       "    </tr>\n",
       "  </tbody>\n",
       "</table>\n",
       "</div>"
      ],
      "text/plain": [
       "        Date        Open        High         Low       Close   Adj Close  \\\n",
       "0 2014-01-02  175.470001  175.470001  175.470001  175.470001  175.470001   \n",
       "1 2014-01-03  175.470001  175.470001  175.470001  175.470001  175.470001   \n",
       "2 2014-01-06  175.470001  175.470001  175.470001  175.470001  175.470001   \n",
       "3 2014-01-07  180.100006  180.100006  180.100006  182.070007  182.070007   \n",
       "4 2014-01-08  180.410004  180.410004  180.410004  179.710007  179.710007   \n",
       "\n",
       "   Volume  \n",
       "0       0  \n",
       "1       0  \n",
       "2       0  \n",
       "3     200  \n",
       "4    6400  "
      ]
     },
     "execution_count": 157,
     "metadata": {},
     "output_type": "execute_result"
    }
   ],
   "source": [
    "df.head()"
   ]
  },
  {
   "cell_type": "code",
   "execution_count": 158,
   "metadata": {},
   "outputs": [
    {
     "data": {
      "text/html": [
       "<div>\n",
       "<style scoped>\n",
       "    .dataframe tbody tr th:only-of-type {\n",
       "        vertical-align: middle;\n",
       "    }\n",
       "\n",
       "    .dataframe tbody tr th {\n",
       "        vertical-align: top;\n",
       "    }\n",
       "\n",
       "    .dataframe thead th {\n",
       "        text-align: right;\n",
       "    }\n",
       "</style>\n",
       "<table border=\"1\" class=\"dataframe\">\n",
       "  <thead>\n",
       "    <tr style=\"text-align: right;\">\n",
       "      <th></th>\n",
       "      <th>Date</th>\n",
       "      <th>Open</th>\n",
       "      <th>High</th>\n",
       "      <th>Low</th>\n",
       "      <th>Close</th>\n",
       "      <th>Adj Close</th>\n",
       "      <th>Volume</th>\n",
       "    </tr>\n",
       "  </thead>\n",
       "  <tbody>\n",
       "    <tr>\n",
       "      <th>1240</th>\n",
       "      <td>2018-12-26</td>\n",
       "      <td>406.429993</td>\n",
       "      <td>406.429993</td>\n",
       "      <td>403.920013</td>\n",
       "      <td>403.920013</td>\n",
       "      <td>403.920013</td>\n",
       "      <td>800</td>\n",
       "    </tr>\n",
       "    <tr>\n",
       "      <th>1241</th>\n",
       "      <td>2018-12-27</td>\n",
       "      <td>404.000000</td>\n",
       "      <td>404.000000</td>\n",
       "      <td>404.000000</td>\n",
       "      <td>404.000000</td>\n",
       "      <td>404.000000</td>\n",
       "      <td>100</td>\n",
       "    </tr>\n",
       "    <tr>\n",
       "      <th>1242</th>\n",
       "      <td>2018-12-28</td>\n",
       "      <td>416.440002</td>\n",
       "      <td>417.000000</td>\n",
       "      <td>411.209991</td>\n",
       "      <td>411.209991</td>\n",
       "      <td>411.209991</td>\n",
       "      <td>500</td>\n",
       "    </tr>\n",
       "    <tr>\n",
       "      <th>1243</th>\n",
       "      <td>2019-01-02</td>\n",
       "      <td>413.309998</td>\n",
       "      <td>413.309998</td>\n",
       "      <td>413.309998</td>\n",
       "      <td>413.309998</td>\n",
       "      <td>413.309998</td>\n",
       "      <td>1500</td>\n",
       "    </tr>\n",
       "    <tr>\n",
       "      <th>1244</th>\n",
       "      <td>2019-01-03</td>\n",
       "      <td>413.000000</td>\n",
       "      <td>413.000000</td>\n",
       "      <td>405.000000</td>\n",
       "      <td>405.000000</td>\n",
       "      <td>405.000000</td>\n",
       "      <td>300</td>\n",
       "    </tr>\n",
       "  </tbody>\n",
       "</table>\n",
       "</div>"
      ],
      "text/plain": [
       "           Date        Open        High         Low       Close   Adj Close  \\\n",
       "1240 2018-12-26  406.429993  406.429993  403.920013  403.920013  403.920013   \n",
       "1241 2018-12-27  404.000000  404.000000  404.000000  404.000000  404.000000   \n",
       "1242 2018-12-28  416.440002  417.000000  411.209991  411.209991  411.209991   \n",
       "1243 2019-01-02  413.309998  413.309998  413.309998  413.309998  413.309998   \n",
       "1244 2019-01-03  413.000000  413.000000  405.000000  405.000000  405.000000   \n",
       "\n",
       "      Volume  \n",
       "1240     800  \n",
       "1241     100  \n",
       "1242     500  \n",
       "1243    1500  \n",
       "1244     300  "
      ]
     },
     "execution_count": 158,
     "metadata": {},
     "output_type": "execute_result"
    }
   ],
   "source": [
    "# Selecionando dados para treino do modelo e para validação.\n",
    "train = df.iloc[:df.shape[0] - 90]\n",
    "test = df.iloc[df.shape[0] - 90:]\n",
    "\n",
    "train.tail()"
   ]
  },
  {
   "cell_type": "code",
   "execution_count": 159,
   "metadata": {},
   "outputs": [
    {
     "data": {
      "text/html": [
       "<div>\n",
       "<style scoped>\n",
       "    .dataframe tbody tr th:only-of-type {\n",
       "        vertical-align: middle;\n",
       "    }\n",
       "\n",
       "    .dataframe tbody tr th {\n",
       "        vertical-align: top;\n",
       "    }\n",
       "\n",
       "    .dataframe thead th {\n",
       "        text-align: right;\n",
       "    }\n",
       "</style>\n",
       "<table border=\"1\" class=\"dataframe\">\n",
       "  <thead>\n",
       "    <tr style=\"text-align: right;\">\n",
       "      <th></th>\n",
       "      <th>Date</th>\n",
       "      <th>Open</th>\n",
       "      <th>High</th>\n",
       "      <th>Low</th>\n",
       "      <th>Close</th>\n",
       "      <th>Adj Close</th>\n",
       "      <th>Volume</th>\n",
       "    </tr>\n",
       "  </thead>\n",
       "  <tbody>\n",
       "    <tr>\n",
       "      <th>1245</th>\n",
       "      <td>2019-01-04</td>\n",
       "      <td>410.619995</td>\n",
       "      <td>410.619995</td>\n",
       "      <td>410.619995</td>\n",
       "      <td>410.619995</td>\n",
       "      <td>410.619995</td>\n",
       "      <td>600</td>\n",
       "    </tr>\n",
       "    <tr>\n",
       "      <th>1246</th>\n",
       "      <td>2019-01-07</td>\n",
       "      <td>415.100006</td>\n",
       "      <td>417.380005</td>\n",
       "      <td>411.910004</td>\n",
       "      <td>411.910004</td>\n",
       "      <td>411.910004</td>\n",
       "      <td>1200</td>\n",
       "    </tr>\n",
       "    <tr>\n",
       "      <th>1247</th>\n",
       "      <td>2019-01-08</td>\n",
       "      <td>413.869995</td>\n",
       "      <td>413.869995</td>\n",
       "      <td>413.869995</td>\n",
       "      <td>413.869995</td>\n",
       "      <td>413.869995</td>\n",
       "      <td>300</td>\n",
       "    </tr>\n",
       "    <tr>\n",
       "      <th>1248</th>\n",
       "      <td>2019-01-09</td>\n",
       "      <td>414.070007</td>\n",
       "      <td>414.070007</td>\n",
       "      <td>414.070007</td>\n",
       "      <td>414.070007</td>\n",
       "      <td>414.070007</td>\n",
       "      <td>300</td>\n",
       "    </tr>\n",
       "    <tr>\n",
       "      <th>1249</th>\n",
       "      <td>2019-01-10</td>\n",
       "      <td>416.720001</td>\n",
       "      <td>416.720001</td>\n",
       "      <td>416.720001</td>\n",
       "      <td>416.720001</td>\n",
       "      <td>416.720001</td>\n",
       "      <td>400</td>\n",
       "    </tr>\n",
       "  </tbody>\n",
       "</table>\n",
       "</div>"
      ],
      "text/plain": [
       "           Date        Open        High         Low       Close   Adj Close  \\\n",
       "1245 2019-01-04  410.619995  410.619995  410.619995  410.619995  410.619995   \n",
       "1246 2019-01-07  415.100006  417.380005  411.910004  411.910004  411.910004   \n",
       "1247 2019-01-08  413.869995  413.869995  413.869995  413.869995  413.869995   \n",
       "1248 2019-01-09  414.070007  414.070007  414.070007  414.070007  414.070007   \n",
       "1249 2019-01-10  416.720001  416.720001  416.720001  416.720001  416.720001   \n",
       "\n",
       "      Volume  \n",
       "1245     600  \n",
       "1246    1200  \n",
       "1247     300  \n",
       "1248     300  \n",
       "1249     400  "
      ]
     },
     "execution_count": 159,
     "metadata": {},
     "output_type": "execute_result"
    }
   ],
   "source": [
    "test.head()"
   ]
  },
  {
   "cell_type": "code",
   "execution_count": 160,
   "metadata": {
    "collapsed": true
   },
   "outputs": [],
   "source": [
    "# Número de amostras utilizadas para previsão, consideradas como memória recente.\n",
    "timesteps = 1 \n",
    "\n",
    "# Colunas que serão utlizadas na previsão do target.\n",
    "# Colunas das dados anteriores a cada previsão, por isso pode-se usar o 'Close' também.\n",
    "features = ['Close'] \n",
    "target = 'Close'"
   ]
  },
  {
   "cell_type": "markdown",
   "metadata": {},
   "source": [
    "### Normalização dos dados"
   ]
  },
  {
   "cell_type": "code",
   "execution_count": 161,
   "metadata": {},
   "outputs": [
    {
     "data": {
      "text/html": [
       "<div>\n",
       "<style scoped>\n",
       "    .dataframe tbody tr th:only-of-type {\n",
       "        vertical-align: middle;\n",
       "    }\n",
       "\n",
       "    .dataframe tbody tr th {\n",
       "        vertical-align: top;\n",
       "    }\n",
       "\n",
       "    .dataframe thead th {\n",
       "        text-align: right;\n",
       "    }\n",
       "</style>\n",
       "<table border=\"1\" class=\"dataframe\">\n",
       "  <thead>\n",
       "    <tr style=\"text-align: right;\">\n",
       "      <th></th>\n",
       "      <th>Close</th>\n",
       "    </tr>\n",
       "  </thead>\n",
       "  <tbody>\n",
       "    <tr>\n",
       "      <th>0</th>\n",
       "      <td>0.017355</td>\n",
       "    </tr>\n",
       "    <tr>\n",
       "      <th>1</th>\n",
       "      <td>0.017355</td>\n",
       "    </tr>\n",
       "    <tr>\n",
       "      <th>2</th>\n",
       "      <td>0.017355</td>\n",
       "    </tr>\n",
       "    <tr>\n",
       "      <th>3</th>\n",
       "      <td>0.039298</td>\n",
       "    </tr>\n",
       "    <tr>\n",
       "      <th>4</th>\n",
       "      <td>0.031452</td>\n",
       "    </tr>\n",
       "  </tbody>\n",
       "</table>\n",
       "</div>"
      ],
      "text/plain": [
       "      Close\n",
       "0  0.017355\n",
       "1  0.017355\n",
       "2  0.017355\n",
       "3  0.039298\n",
       "4  0.031452"
      ]
     },
     "execution_count": 161,
     "metadata": {},
     "output_type": "execute_result"
    }
   ],
   "source": [
    "# Normalizador para transformar os dados do DataFrame antes da previsão.\n",
    "\n",
    "scaler_features = MinMaxScaler((0, 1))\n",
    "train_norm = pd.DataFrame(\n",
    "    data= scaler_features.fit_transform(train[features]),\n",
    "    columns= features\n",
    ")\n",
    "\n",
    "test_norm = pd.DataFrame(\n",
    "    data= scaler_features.transform(test[features]),\n",
    "    columns= features\n",
    ")\n",
    "\n",
    "train_norm.head()"
   ]
  },
  {
   "cell_type": "code",
   "execution_count": 162,
   "metadata": {},
   "outputs": [
    {
     "data": {
      "text/html": [
       "<div>\n",
       "<style scoped>\n",
       "    .dataframe tbody tr th:only-of-type {\n",
       "        vertical-align: middle;\n",
       "    }\n",
       "\n",
       "    .dataframe tbody tr th {\n",
       "        vertical-align: top;\n",
       "    }\n",
       "\n",
       "    .dataframe thead th {\n",
       "        text-align: right;\n",
       "    }\n",
       "</style>\n",
       "<table border=\"1\" class=\"dataframe\">\n",
       "  <thead>\n",
       "    <tr style=\"text-align: right;\">\n",
       "      <th></th>\n",
       "      <th>Close</th>\n",
       "    </tr>\n",
       "  </thead>\n",
       "  <tbody>\n",
       "    <tr>\n",
       "      <th>0</th>\n",
       "      <td>0.799156</td>\n",
       "    </tr>\n",
       "    <tr>\n",
       "      <th>1</th>\n",
       "      <td>0.803444</td>\n",
       "    </tr>\n",
       "    <tr>\n",
       "      <th>2</th>\n",
       "      <td>0.809961</td>\n",
       "    </tr>\n",
       "    <tr>\n",
       "      <th>3</th>\n",
       "      <td>0.810626</td>\n",
       "    </tr>\n",
       "    <tr>\n",
       "      <th>4</th>\n",
       "      <td>0.819436</td>\n",
       "    </tr>\n",
       "  </tbody>\n",
       "</table>\n",
       "</div>"
      ],
      "text/plain": [
       "      Close\n",
       "0  0.799156\n",
       "1  0.803444\n",
       "2  0.809961\n",
       "3  0.810626\n",
       "4  0.819436"
      ]
     },
     "execution_count": 162,
     "metadata": {},
     "output_type": "execute_result"
    }
   ],
   "source": [
    "test_norm.head()"
   ]
  },
  {
   "cell_type": "code",
   "execution_count": 163,
   "metadata": {},
   "outputs": [
    {
     "data": {
      "text/plain": [
       "MinMaxScaler(copy=True, feature_range=(0, 1))"
      ]
     },
     "execution_count": 163,
     "metadata": {},
     "output_type": "execute_result"
    }
   ],
   "source": [
    "# Normalizador que será utilizado para inverter a transformação \n",
    "# do target depois da previsão.\n",
    "\n",
    "scaler_target = MinMaxScaler((0, 1))\n",
    "scaler_target.fit( train[[target]] )"
   ]
  },
  {
   "cell_type": "markdown",
   "metadata": {},
   "source": [
    "### Transformação dos dados para RNN"
   ]
  },
  {
   "cell_type": "code",
   "execution_count": 164,
   "metadata": {
    "collapsed": true
   },
   "outputs": [],
   "source": [
    "def transformar_dados_para_RNN(df, timesteps, colunas, target, append_before=None):\n",
    "    '''Parâmetros\n",
    "       -----------\n",
    "        df : DataFrame que será tansformado.\n",
    "        timesteps : Número de amostras que serão utilizadas. Amostras anteriores à cada previsão.\n",
    "        colunas : Nomes das colunas do DataFrame que serão utilizadas.\n",
    "        target : Nome do coluna que será prevista.\n",
    "        append_before : DataFrame que será utilizado para extrair N amostras anteriores ao 'df'.\n",
    "    '''\n",
    "    \n",
    "    if append_before is not None:\n",
    "        df_append = append_before\n",
    "        n_amostra = df_append.shape[0] - timesteps\n",
    "        df = pd.concat(\n",
    "            objs= (df_append.iloc[n_amostra:], df),\n",
    "            axis= 0\n",
    "        )\n",
    "    \n",
    "    previsores = []\n",
    "    valores_target = []\n",
    "\n",
    "    for i in range (timesteps, df.shape[0]):\n",
    "        previsores.append( np.matrix(df.iloc[i-timesteps:i][colunas] ))\n",
    "        valores_target.append( df[target].iloc[i] )\n",
    "        \n",
    "    return np.array(previsores), np.array(valores_target)"
   ]
  },
  {
   "cell_type": "code",
   "execution_count": 165,
   "metadata": {
    "collapsed": true
   },
   "outputs": [],
   "source": [
    "x_train, y_train = transformar_dados_para_RNN(train_norm, timesteps, features, target)\n",
    "x_test, y_test = transformar_dados_para_RNN(test_norm, timesteps, features, target, append_before=train_norm)\n",
    "\n",
    "y_test = test[target] # target não normalizado, para validação"
   ]
  },
  {
   "cell_type": "markdown",
   "metadata": {},
   "source": [
    "### Criação do modelo de RNN"
   ]
  },
  {
   "cell_type": "code",
   "execution_count": 166,
   "metadata": {},
   "outputs": [],
   "source": [
    "# Fixando o seed permite que o keras tenha o mesmo resultado em todas \n",
    "# as execuções, pelo menos com uma menor margem de diferença entre elas.\n",
    "np.random.seed(27)\n",
    "tensorflow.random.set_seed(27)\n",
    "\n",
    "model = Sequential()\n",
    "\n",
    "# Criando as camadas da Rede Neural\n",
    "model.add(LSTM(30, activation='linear', return_sequences=True, input_shape=(timesteps, len(features)) ))\n",
    "#model.add(Dropout(0.1))\n",
    "\n",
    "model.add(LSTM(60, return_sequences=True))\n",
    "#model.add(Dropout(0.3))\n",
    "\n",
    "model.add(Dense(10))\n",
    "#model.add(Dropout(0.1)\n",
    "\n",
    "model.add(LSTM(20, return_sequences=True))\n",
    "\n",
    "model.add(Dense(15))\n",
    "\n",
    "model.add(LSTM(20, return_sequences=False))\n",
    "\n",
    "model.add(Dense(1))\n",
    "\n",
    "# Compilando o modelo com as métricas escolhidas.\n",
    "model.compile(\n",
    "    optimizer='rmsprop',\n",
    "    loss='msle',\n",
    "    metrics=['mae'],\n",
    ")"
   ]
  },
  {
   "cell_type": "code",
   "execution_count": 167,
   "metadata": {
    "collapsed": true
   },
   "outputs": [],
   "source": [
    "es = EarlyStopping(monitor='loss', min_delta=1e-5, patience=15)"
   ]
  },
  {
   "cell_type": "code",
   "execution_count": 168,
   "metadata": {},
   "outputs": [
    {
     "name": "stdout",
     "output_type": "stream",
     "text": [
      "Epoch 1/150\n",
      "1244/1244 [==============================] - 2s 2ms/sample - loss: 0.1515 - mae: 0.4643\n",
      "Epoch 2/150\n",
      "1244/1244 [==============================] - 0s 79us/sample - loss: 0.0612 - mae: 0.3174\n",
      "Epoch 3/150\n",
      "1244/1244 [==============================] - 0s 87us/sample - loss: 0.0235 - mae: 0.1776\n",
      "Epoch 4/150\n",
      "1244/1244 [==============================] - 0s 79us/sample - loss: 0.0196 - mae: 0.1489\n",
      "Epoch 5/150\n",
      "1244/1244 [==============================] - 0s 77us/sample - loss: 0.0141 - mae: 0.1217\n",
      "Epoch 6/150\n",
      "1244/1244 [==============================] - 0s 81us/sample - loss: 0.0069 - mae: 0.0792\n",
      "Epoch 7/150\n",
      "1244/1244 [==============================] - 0s 77us/sample - loss: 0.0025 - mae: 0.0498\n",
      "Epoch 8/150\n",
      "1244/1244 [==============================] - 0s 81us/sample - loss: 0.0012 - mae: 0.0399\n",
      "Epoch 9/150\n",
      "1244/1244 [==============================] - 0s 79us/sample - loss: 0.0011 - mae: 0.0420\n",
      "Epoch 10/150\n",
      "1244/1244 [==============================] - 0s 76us/sample - loss: 9.4407e-04 - mae: 0.0372\n",
      "Epoch 11/150\n",
      "1244/1244 [==============================] - 0s 87us/sample - loss: 9.5112e-04 - mae: 0.0380\n",
      "Epoch 12/150\n",
      "1244/1244 [==============================] - 0s 80us/sample - loss: 9.9404e-04 - mae: 0.0391\n",
      "Epoch 13/150\n",
      "1244/1244 [==============================] - 0s 80us/sample - loss: 9.1467e-04 - mae: 0.0383\n",
      "Epoch 14/150\n",
      "1244/1244 [==============================] - 0s 78us/sample - loss: 5.9576e-04 - mae: 0.0298\n",
      "Epoch 15/150\n",
      "1244/1244 [==============================] - 0s 79us/sample - loss: 8.1385e-04 - mae: 0.0349\n",
      "Epoch 16/150\n",
      "1244/1244 [==============================] - 0s 90us/sample - loss: 8.5399e-04 - mae: 0.0367\n",
      "Epoch 17/150\n",
      "1244/1244 [==============================] - 0s 79us/sample - loss: 8.2669e-04 - mae: 0.0353\n",
      "Epoch 18/150\n",
      "1244/1244 [==============================] - 0s 84us/sample - loss: 6.5663e-04 - mae: 0.0320\n",
      "Epoch 19/150\n",
      "1244/1244 [==============================] - 0s 77us/sample - loss: 5.2174e-04 - mae: 0.0277\n",
      "Epoch 20/150\n",
      "1244/1244 [==============================] - 0s 78us/sample - loss: 6.6542e-04 - mae: 0.0325\n",
      "Epoch 21/150\n",
      "1244/1244 [==============================] - 0s 78us/sample - loss: 6.6908e-04 - mae: 0.0331\n",
      "Epoch 22/150\n",
      "1244/1244 [==============================] - 0s 84us/sample - loss: 6.7144e-04 - mae: 0.0333\n",
      "Epoch 23/150\n",
      "1244/1244 [==============================] - 0s 88us/sample - loss: 4.1329e-04 - mae: 0.0243\n",
      "Epoch 24/150\n",
      "1244/1244 [==============================] - 0s 77us/sample - loss: 5.1127e-04 - mae: 0.0280\n",
      "Epoch 25/150\n",
      "1244/1244 [==============================] - 0s 89us/sample - loss: 5.0923e-04 - mae: 0.0285\n",
      "Epoch 26/150\n",
      "1244/1244 [==============================] - 0s 82us/sample - loss: 5.3385e-04 - mae: 0.0292\n",
      "Epoch 27/150\n",
      "1244/1244 [==============================] - ETA: 0s - loss: 6.4273e-04 - mae: 0.033 - 0s 80us/sample - loss: 5.7911e-04 - mae: 0.0315\n",
      "Epoch 28/150\n",
      "1244/1244 [==============================] - 0s 90us/sample - loss: 4.4316e-04 - mae: 0.0271\n",
      "Epoch 29/150\n",
      "1244/1244 [==============================] - 0s 83us/sample - loss: 5.5157e-04 - mae: 0.0288\n",
      "Epoch 30/150\n",
      "1244/1244 [==============================] - 0s 83us/sample - loss: 4.8051e-04 - mae: 0.0268\n",
      "Epoch 31/150\n",
      "1244/1244 [==============================] - 0s 85us/sample - loss: 4.6638e-04 - mae: 0.0257\n",
      "Epoch 32/150\n",
      "1244/1244 [==============================] - 0s 83us/sample - loss: 3.3111e-04 - mae: 0.0220\n",
      "Epoch 33/150\n",
      "1244/1244 [==============================] - 0s 84us/sample - loss: 3.5306e-04 - mae: 0.0238\n",
      "Epoch 34/150\n",
      "1244/1244 [==============================] - 0s 72us/sample - loss: 4.6122e-04 - mae: 0.0287\n",
      "Epoch 35/150\n",
      "1244/1244 [==============================] - 0s 82us/sample - loss: 4.1935e-04 - mae: 0.0272\n",
      "Epoch 36/150\n",
      "1244/1244 [==============================] - 0s 88us/sample - loss: 3.5337e-04 - mae: 0.0246\n",
      "Epoch 37/150\n",
      "1244/1244 [==============================] - 0s 79us/sample - loss: 4.1424e-04 - mae: 0.0271\n",
      "Epoch 38/150\n",
      "1244/1244 [==============================] - 0s 84us/sample - loss: 4.4814e-04 - mae: 0.0291\n",
      "Epoch 39/150\n",
      "1244/1244 [==============================] - 0s 85us/sample - loss: 3.9718e-04 - mae: 0.0263\n",
      "Epoch 40/150\n",
      "1244/1244 [==============================] - 0s 81us/sample - loss: 4.3504e-04 - mae: 0.0282\n",
      "Epoch 41/150\n",
      "1244/1244 [==============================] - 0s 78us/sample - loss: 3.9407e-04 - mae: 0.0267\n",
      "Epoch 42/150\n",
      "1244/1244 [==============================] - 0s 77us/sample - loss: 3.4195e-04 - mae: 0.0243\n",
      "Epoch 43/150\n",
      "1244/1244 [==============================] - 0s 77us/sample - loss: 3.9185e-04 - mae: 0.0268\n",
      "Epoch 44/150\n",
      "1244/1244 [==============================] - 0s 85us/sample - loss: 3.6629e-04 - mae: 0.0254\n",
      "Epoch 45/150\n",
      "1244/1244 [==============================] - 0s 76us/sample - loss: 3.6713e-04 - mae: 0.0257\n",
      "Epoch 46/150\n",
      "1244/1244 [==============================] - 0s 76us/sample - loss: 3.6202e-04 - mae: 0.0245\n",
      "Epoch 47/150\n",
      "1244/1244 [==============================] - 0s 83us/sample - loss: 3.8224e-04 - mae: 0.0258\n"
     ]
    },
    {
     "data": {
      "text/plain": [
       "<tensorflow.python.keras.callbacks.History at 0x7fbdead0cef0>"
      ]
     },
     "execution_count": 168,
     "metadata": {},
     "output_type": "execute_result"
    }
   ],
   "source": [
    "# Treinando do modelo\n",
    "\n",
    "# epochs: número de vezes que será treinado, sobre todo o dataset.\n",
    "# batch_size: Número de amostras processadas antes de atualizar os pesos. \n",
    "model.fit(\n",
    "    x_train, \n",
    "    y_train,\n",
    "    batch_size=100,\n",
    "    epochs=150,\n",
    "    callbacks=[es]\n",
    ")"
   ]
  },
  {
   "cell_type": "code",
   "execution_count": 169,
   "metadata": {},
   "outputs": [
    {
     "data": {
      "text/plain": [
       "array([[0.8213328],\n",
       "       [0.8397228],\n",
       "       [0.8439193]], dtype=float32)"
      ]
     },
     "execution_count": 169,
     "metadata": {},
     "output_type": "execute_result"
    }
   ],
   "source": [
    "pred = model.predict(x_test)\n",
    "\n",
    "pred[:3]"
   ]
  },
  {
   "cell_type": "markdown",
   "metadata": {},
   "source": [
    "### Análise da previsão"
   ]
  },
  {
   "cell_type": "code",
   "execution_count": 170,
   "metadata": {},
   "outputs": [
    {
     "data": {
      "text/plain": [
       "array([[417.2905 ],\n",
       "       [422.8218 ],\n",
       "       [424.08405]], dtype=float32)"
      ]
     },
     "execution_count": 170,
     "metadata": {},
     "output_type": "execute_result"
    }
   ],
   "source": [
    "# Inverter a normalização\n",
    "pred = scaler_target.inverse_transform(pred)\n",
    "\n",
    "pred[:3]"
   ]
  },
  {
   "cell_type": "code",
   "execution_count": 171,
   "metadata": {},
   "outputs": [
    {
     "data": {
      "text/plain": [
       "10.486680790972226"
      ]
     },
     "execution_count": 171,
     "metadata": {},
     "output_type": "execute_result"
    }
   ],
   "source": [
    "# Medir a precisão do modelo\n",
    "# Como é a média de erro, quanto mais próximo de 0 melhor.\n",
    "\n",
    "metrics.mean_absolute_error(y_test, pred)"
   ]
  },
  {
   "cell_type": "code",
   "execution_count": 172,
   "metadata": {},
   "outputs": [
    {
     "data": {
      "image/png": "[encoded data removed]",
      "text/plain": [
       "<Figure size 1440x576 with 1 Axes>"
      ]
     },
     "metadata": {},
     "output_type": "display_data"
    }
   ],
   "source": [
    "plt.figure(figsize=(20, 8))\n",
    "plt.plot(test.index, y_test, color='blue', label='Preço Real', linestyle='-', marker='o')\n",
    "plt.plot(test.index, pred, color='red', label='Previsão', linestyle='--', marker='o')\n",
    "\n",
    "plt.legend(loc='upper left', prop={'size':18})\n",
    "plt.xlabel('Data', fontdict={'size':20})\n",
    "plt.ylabel('Preço', fontdict={'size':20})\n",
    "plt.xticks(rotation='60')\n",
    "plt.grid(axis='y')"
   ]
  },
  {
   "cell_type": "code",
   "execution_count": null,
   "metadata": {
    "collapsed": true
   },
   "outputs": [],
   "source": []
  }
 ],
 "metadata": {
  "kernelspec": {
   "display_name": "Python 3",
   "language": "python",
   "name": "python3"
  },
  "language_info": {
   "codemirror_mode": {
    "name": "ipython",
    "version": 3
   },
   "file_extension": ".py",
   "mimetype": "text/x-python",
   "name": "python",
   "nbconvert_exporter": "python",
   "pygments_lexer": "ipython3",
   "version": "3.6.3"
  }
 },
 "nbformat": 4,
 "nbformat_minor": 2
}
